{
  "nbformat": 4,
  "nbformat_minor": 0,
  "metadata": {
    "colab": {
      "provenance": [],
      "authorship_tag": "ABX9TyPMLOhNvO3M6XWT8m1xTdYZ",
      "include_colab_link": true
    },
    "kernelspec": {
      "name": "python3",
      "display_name": "Python 3"
    },
    "language_info": {
      "name": "python"
    }
  },
  "cells": [
    {
      "cell_type": "markdown",
      "metadata": {
        "id": "view-in-github",
        "colab_type": "text"
      },
      "source": [
        "<a href=\"https://colab.research.google.com/github/birichie/AIHackaton/blob/main/LSTM%202%20NLP.ipynb\" target=\"_parent\"><img src=\"https://colab.research.google.com/assets/colab-badge.svg\" alt=\"Open In Colab\"/></a>"
      ]
    },
    {
      "cell_type": "code",
      "execution_count": 2,
      "metadata": {
        "id": "AFZDgbtAEDDn"
      },
      "outputs": [],
      "source": [
        "from numpy import array\n",
        "from keras.models import Sequential\n",
        "from keras.layers import LSTM\n",
        "from keras.layers import Dense"
      ]
    },
    {
      "cell_type": "code",
      "source": [
        "def split_sequence(sequence, n_steps):\n",
        "  X,y = list(), list()\n",
        "  for i in range(len(sequence)):\n",
        "    end_ix = i + n_steps\n",
        "    if end_ix > len(sequence)-1:\n",
        "      break\n",
        "    seq_x, seq_y = sequence[i:end_ix], sequence[end_ix]\n",
        "    X.append(seq_x)\n",
        "    y.append(seq_y)\n",
        "  return array(X), array(y)"
      ],
      "metadata": {
        "id": "PERnvxQRFugd"
      },
      "execution_count": 3,
      "outputs": []
    },
    {
      "cell_type": "code",
      "source": [
        "raw_seq = [10, 20, 30, 40, 50, 60, 70, 80, 90]\n",
        "n_steps = 3\n",
        "X,y = split_sequence(raw_seq, n_steps)\n",
        "print(\"summarize the data\", raw_seq)\n",
        "for i in range(len(X)):\n",
        "  print(X[i]), y[i]\n",
        "n_features = 1\n",
        "X=X.reshape((X.shape[0],X.shape[1], n_features))\n",
        "print(\"samples\", X.shape[0])\n",
        "print(\"timesteps\", X.shape[1])\n",
        "print(\"n-features\", n_features)\n",
        "model = Sequential()\n",
        "model.add(LSTM(50, activation='relu', input_shape=(n_steps, n_features)))\n",
        "model.add(Dense(1))\n",
        "model.compile(optimizer='adam',loss='mse')\n"
      ],
      "metadata": {
        "colab": {
          "base_uri": "https://localhost:8080/"
        },
        "id": "qD-QdtYbKXZz",
        "outputId": "15e587ea-ad22-483e-db87-bdf949d62321"
      },
      "execution_count": 4,
      "outputs": [
        {
          "output_type": "stream",
          "name": "stdout",
          "text": [
            "summarize the data [10, 20, 30, 40, 50, 60, 70, 80, 90]\n",
            "[10 20 30]\n",
            "[20 30 40]\n",
            "[30 40 50]\n",
            "[40 50 60]\n",
            "[50 60 70]\n",
            "[60 70 80]\n",
            "samples 6\n",
            "timesteps 3\n",
            "n-features 1\n"
          ]
        }
      ]
    },
    {
      "cell_type": "code",
      "source": [
        "model.fit(X,y, epochs=200, verbose=0)\n",
        "range=[70,80,90]\n",
        "x_input = "
      ],
      "metadata": {
        "id": "he6NUc6mQdqe"
      },
      "execution_count": null,
      "outputs": []
    },
    {
      "cell_type": "markdown",
      "source": [],
      "metadata": {
        "id": "Vh9l8ZLqFDY3"
      }
    }
  ]
}