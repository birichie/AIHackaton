{
  "nbformat": 4,
  "nbformat_minor": 0,
  "metadata": {
    "colab": {
      "provenance": [],
      "toc_visible": true,
      "authorship_tag": "ABX9TyOEK0F2FEfFHiiId7jrv80Y",
      "include_colab_link": true
    },
    "kernelspec": {
      "name": "python3",
      "display_name": "Python 3"
    },
    "language_info": {
      "name": "python"
    }
  },
  "cells": [
    {
      "cell_type": "markdown",
      "metadata": {
        "id": "view-in-github",
        "colab_type": "text"
      },
      "source": [
        "<a href=\"https://colab.research.google.com/github/birichie/AIHackaton/blob/main/NLPP.ipynb\" target=\"_parent\"><img src=\"https://colab.research.google.com/assets/colab-badge.svg\" alt=\"Open In Colab\"/></a>"
      ]
    },
    {
      "cell_type": "code",
      "execution_count": 2,
      "metadata": {
        "id": "0odWs2Mk4e39"
      },
      "outputs": [],
      "source": [
        "import nltk"
      ]
    },
    {
      "cell_type": "code",
      "source": [
        "from nltk import ngrams"
      ],
      "metadata": {
        "id": "sdjjojVy4qbR"
      },
      "execution_count": 3,
      "outputs": []
    },
    {
      "cell_type": "code",
      "source": [
        "sentence = input(\"Enter the sentence:\")"
      ],
      "metadata": {
        "colab": {
          "base_uri": "https://localhost:8080/"
        },
        "id": "0qXw5Gj74vZO",
        "outputId": "c07f477d-044c-4cfc-aee3-022fa8c45e58"
      },
      "execution_count": 6,
      "outputs": [
        {
          "name": "stdout",
          "output_type": "stream",
          "text": [
            "Enter the sentence:Lewis Hamilton is the greatest\n"
          ]
        }
      ]
    },
    {
      "cell_type": "code",
      "source": [
        "n = int(input(\"Enter the value of n:\"))"
      ],
      "metadata": {
        "colab": {
          "base_uri": "https://localhost:8080/"
        },
        "id": "9kgWfuLC5K5G",
        "outputId": "87c3286e-701d-427e-a6e4-1f17f2a8b4c9"
      },
      "execution_count": 7,
      "outputs": [
        {
          "name": "stdout",
          "output_type": "stream",
          "text": [
            "Enter the value of n:8\n"
          ]
        }
      ]
    },
    {
      "cell_type": "code",
      "source": [
        "n_grams=ngrams(sentence.split(),n)"
      ],
      "metadata": {
        "id": "amQYn8et6p8A"
      },
      "execution_count": 8,
      "outputs": []
    },
    {
      "cell_type": "code",
      "source": [
        "for grams in n_grams:\n",
        "  print(grams)"
      ],
      "metadata": {
        "id": "lexmJcjF60ln"
      },
      "execution_count": 9,
      "outputs": []
    },
    {
      "cell_type": "code",
      "source": [
        "text = \"Sir Lewis Carl Davidson Hamilton MBE HonFREng is a British racing driver currently competing in Formula One for Mercedes. In Formula One, Hamilton has won a joint-record seven World Drivers' Championship titles, and holds the records for the most wins, pole positions, and podium finishes, among others\""
      ],
      "metadata": {
        "id": "dFm9nPYS7RVx"
      },
      "execution_count": 10,
      "outputs": []
    },
    {
      "cell_type": "code",
      "source": [
        "import nltk\n",
        "nltk.download('punkt')\n",
        "nltk.download('averaged_perceptron_tagger')"
      ],
      "metadata": {
        "colab": {
          "base_uri": "https://localhost:8080/"
        },
        "id": "qRjHVqxU983B",
        "outputId": "c57debf4-4180-461d-d7da-8b33cf650d78"
      },
      "execution_count": 19,
      "outputs": [
        {
          "output_type": "stream",
          "name": "stderr",
          "text": [
            "[nltk_data] Downloading package punkt to /root/nltk_data...\n",
            "[nltk_data]   Package punkt is already up-to-date!\n",
            "[nltk_data] Downloading package averaged_perceptron_tagger to\n",
            "[nltk_data]     /root/nltk_data...\n",
            "[nltk_data]   Package averaged_perceptron_tagger is already up-to-\n",
            "[nltk_data]       date!\n"
          ]
        },
        {
          "output_type": "execute_result",
          "data": {
            "text/plain": [
              "True"
            ]
          },
          "metadata": {},
          "execution_count": 19
        }
      ]
    },
    {
      "cell_type": "code",
      "source": [
        "sentence = nltk.sent_tokenize(text)\n",
        "for sent in sentence:\n",
        "  print(nltk.pos_tag(nltk.word_tokenize(sent)))"
      ],
      "metadata": {
        "colab": {
          "base_uri": "https://localhost:8080/"
        },
        "id": "q-sj4iqF77aB",
        "outputId": "21792c11-b63e-4171-c657-6bb6c531406e"
      },
      "execution_count": 18,
      "outputs": [
        {
          "output_type": "stream",
          "name": "stdout",
          "text": [
            "[('Sir', 'NNP'), ('Lewis', 'NNP'), ('Carl', 'NNP'), ('Davidson', 'NNP'), ('Hamilton', 'NNP'), ('MBE', 'NNP'), ('HonFREng', 'NNP'), ('is', 'VBZ'), ('a', 'DT'), ('British', 'JJ'), ('racing', 'NN'), ('driver', 'NN'), ('currently', 'RB'), ('competing', 'VBG'), ('in', 'IN'), ('Formula', 'NNP'), ('One', 'NNP'), ('for', 'IN'), ('Mercedes', 'NNP'), ('.', '.')]\n",
            "[('In', 'IN'), ('Formula', 'NNP'), ('One', 'NNP'), (',', ','), ('Hamilton', 'NNP'), ('has', 'VBZ'), ('won', 'VBN'), ('a', 'DT'), ('joint-record', 'JJ'), ('seven', 'CD'), ('World', 'NNP'), ('Drivers', 'NNP'), (\"'\", 'POS'), ('Championship', 'NNP'), ('titles', 'NNS'), (',', ','), ('and', 'CC'), ('holds', 'VBZ'), ('the', 'DT'), ('records', 'NNS'), ('for', 'IN'), ('the', 'DT'), ('most', 'RBS'), ('wins', 'NNS'), (',', ','), ('pole', 'JJ'), ('positions', 'NNS'), (',', ','), ('and', 'CC'), ('podium', 'NN'), ('finishes', 'NNS'), (',', ','), ('among', 'IN'), ('others', 'NNS')]\n"
          ]
        }
      ]
    },
    {
      "cell_type": "code",
      "source": [
        "#example of a ordinal encoding"
      ],
      "metadata": {
        "id": "mBp0KLjh9qyb"
      },
      "execution_count": null,
      "outputs": []
    },
    {
      "cell_type": "code",
      "source": [
        "from numpy import asarray"
      ],
      "metadata": {
        "id": "Q481h42lBnu0"
      },
      "execution_count": 20,
      "outputs": []
    },
    {
      "cell_type": "code",
      "source": [
        "from sklearn.preprocessing import OrdinalEncoder\n",
        "#define data"
      ],
      "metadata": {
        "id": "QH1nV8EBBsmd"
      },
      "execution_count": 21,
      "outputs": []
    },
    {
      "cell_type": "code",
      "source": [
        "data = asarray([['red'],['green'], ['blue']])\n",
        "print(data)"
      ],
      "metadata": {
        "colab": {
          "base_uri": "https://localhost:8080/"
        },
        "id": "ql02CYWmB2cj",
        "outputId": "5899aae8-bf3a-4d6d-8e84-53b1bdb95377"
      },
      "execution_count": 25,
      "outputs": [
        {
          "output_type": "stream",
          "name": "stdout",
          "text": [
            "[['red']\n",
            " ['green']\n",
            " ['blue']]\n"
          ]
        }
      ]
    },
    {
      "cell_type": "code",
      "source": [
        "#define ordinal encoding\n",
        "encoder = OrdinalEncoder()"
      ],
      "metadata": {
        "id": "NppPPi8WCWSX"
      },
      "execution_count": 26,
      "outputs": []
    },
    {
      "cell_type": "code",
      "source": [
        "#transform data\n",
        "result = encoder.fit_transform(data)\n",
        "print(result)"
      ],
      "metadata": {
        "colab": {
          "base_uri": "https://localhost:8080/"
        },
        "id": "saFboaRzCrVQ",
        "outputId": "f5fa0639-892f-4a7d-a618-8d73c3207d9d"
      },
      "execution_count": 27,
      "outputs": [
        {
          "output_type": "stream",
          "name": "stdout",
          "text": [
            "[[2.]\n",
            " [1.]\n",
            " [0.]]\n"
          ]
        }
      ]
    },
    {
      "cell_type": "code",
      "source": [
        "from gensim.models import Word2Vec"
      ],
      "metadata": {
        "id": "FlXIGSsVIY3w"
      },
      "execution_count": 32,
      "outputs": []
    },
    {
      "cell_type": "code",
      "source": [],
      "metadata": {
        "id": "2friU-grMWJO"
      },
      "execution_count": null,
      "outputs": []
    },
    {
      "cell_type": "code",
      "source": [
        "#define training data\n",
        "sentences = [['this', 'is', 'first', 'sentence', 'for', 'word2vec'],\n",
        "             ['this', 'is', 'the', 'second', 'sentence'],\n",
        "             ['yet', 'another', 'sentence'],\n",
        "             ['one', 'more', 'sentence'],\n",
        "             ['and', 'the', 'final' 'sentence']]\n"
      ],
      "metadata": {
        "id": "uE-9F2FxIsbE"
      },
      "execution_count": 30,
      "outputs": []
    },
    {
      "cell_type": "code",
      "source": [],
      "metadata": {
        "id": "4IY2o_bfMcyv"
      },
      "execution_count": null,
      "outputs": []
    },
    {
      "cell_type": "code",
      "source": [
        "#train model\n",
        "model = Word2Vec(sentences, window=1, min_count=1, workers=2)\n",
        "print('Sentence=', model.wv['sentence'])"
      ],
      "metadata": {
        "colab": {
          "base_uri": "https://localhost:8080/"
        },
        "outputId": "6d64a9e2-820a-4c0d-9e8e-40e65b1acdf6",
        "id": "2ljv2R39MdGp"
      },
      "execution_count": 34,
      "outputs": [
        {
          "output_type": "stream",
          "name": "stderr",
          "text": [
            "WARNING:gensim.models.base_any2vec:under 10 jobs per worker: consider setting a smaller `batch_words' for smoother alpha decay\n"
          ]
        },
        {
          "output_type": "stream",
          "name": "stdout",
          "text": [
            "Sentence= [-2.3059652e-03 -1.1576702e-03  1.1980741e-03  4.7541377e-03\n",
            "  2.9149719e-03  2.5126820e-03 -1.4339925e-03  1.5195349e-04\n",
            "  3.6202124e-04  1.6677401e-03 -4.8931674e-03  4.0804795e-03\n",
            " -3.6066428e-03 -3.9167404e-03  6.8606617e-04  1.4765577e-03\n",
            "  3.9079776e-03 -3.9875922e-03 -3.8342064e-03 -2.7529430e-04\n",
            " -4.0395819e-03 -4.3147919e-03  4.0071812e-03 -1.2986978e-03\n",
            " -4.6572569e-03  2.7391582e-03 -2.5073201e-03 -2.4981651e-05\n",
            " -1.2140253e-03 -1.1512601e-03 -1.5114049e-03 -3.9476939e-03\n",
            " -4.3710736e-03 -4.7784788e-03 -4.6884096e-03  4.3499973e-03\n",
            "  6.3844532e-04  3.7595539e-03  2.8770023e-03 -3.8604280e-03\n",
            "  2.6046636e-04 -1.0485360e-03 -3.6701960e-03  4.8210677e-03\n",
            " -1.3899646e-03 -1.7401287e-03  1.4321984e-03 -2.1602055e-03\n",
            " -1.0570043e-03 -4.8259888e-03  2.0466167e-03 -2.0231479e-03\n",
            "  3.4015970e-03 -3.9709006e-03 -2.3165522e-03  2.0093385e-04\n",
            " -1.3772210e-03 -1.3922782e-03  1.7362883e-03  1.2482259e-03\n",
            " -1.3092431e-03 -4.5283260e-03 -2.2876109e-03 -9.1864255e-05\n",
            " -3.3570828e-03  1.7890974e-03 -4.8876288e-03  1.6821122e-03\n",
            " -1.2878045e-03 -3.2675355e-03  3.6758424e-03 -2.8837223e-03\n",
            " -2.9113772e-03 -4.1949316e-03  2.9352857e-03  1.6027037e-03\n",
            " -1.5649530e-04  3.9990679e-03  3.1538908e-03  1.8322292e-03\n",
            " -7.9682906e-04  4.9386579e-03 -4.9309549e-03  4.0438134e-04\n",
            " -1.1176296e-03  1.5930887e-04 -3.1578897e-03  3.9100155e-04\n",
            " -2.3817599e-03 -2.4729322e-03 -2.7927756e-04 -2.1776168e-03\n",
            " -4.8770839e-03  2.1746748e-03 -4.7135651e-03 -3.4529739e-03\n",
            " -2.5632323e-03 -4.6752281e-03  6.4174237e-04 -3.1741504e-03]\n"
          ]
        }
      ]
    }
  ]
}