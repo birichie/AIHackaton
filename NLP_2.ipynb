{
  "nbformat": 4,
  "nbformat_minor": 0,
  "metadata": {
    "colab": {
      "provenance": [],
      "authorship_tag": "ABX9TyPtlDUsr8kPKANFlNDdwCL+",
      "include_colab_link": true
    },
    "kernelspec": {
      "name": "python3",
      "display_name": "Python 3"
    },
    "language_info": {
      "name": "python"
    }
  },
  "cells": [
    {
      "cell_type": "markdown",
      "metadata": {
        "id": "view-in-github",
        "colab_type": "text"
      },
      "source": [
        "<a href=\"https://colab.research.google.com/github/birichie/AIHackaton/blob/main/NLP_2.ipynb\" target=\"_parent\"><img src=\"https://colab.research.google.com/assets/colab-badge.svg\" alt=\"Open In Colab\"/></a>"
      ]
    },
    {
      "cell_type": "code",
      "execution_count": 2,
      "metadata": {
        "id": "0odWs2Mk4e39"
      },
      "outputs": [],
      "source": [
        "import nltk"
      ]
    },
    {
      "cell_type": "code",
      "source": [
        "from nltk import ngrams"
      ],
      "metadata": {
        "id": "sdjjojVy4qbR"
      },
      "execution_count": 3,
      "outputs": []
    },
    {
      "cell_type": "code",
      "source": [
        "sentence = input(\"Enter the sentence:\")"
      ],
      "metadata": {
        "colab": {
          "base_uri": "https://localhost:8080/"
        },
        "id": "0qXw5Gj74vZO",
        "outputId": "c07f477d-044c-4cfc-aee3-022fa8c45e58"
      },
      "execution_count": 6,
      "outputs": [
        {
          "name": "stdout",
          "output_type": "stream",
          "text": [
            "Enter the sentence:Lewis Hamilton is the greatest\n"
          ]
        }
      ]
    },
    {
      "cell_type": "code",
      "source": [
        "n = int(input(\"Enter the value of n:\"))"
      ],
      "metadata": {
        "colab": {
          "base_uri": "https://localhost:8080/"
        },
        "id": "9kgWfuLC5K5G",
        "outputId": "87c3286e-701d-427e-a6e4-1f17f2a8b4c9"
      },
      "execution_count": 7,
      "outputs": [
        {
          "name": "stdout",
          "output_type": "stream",
          "text": [
            "Enter the value of n:8\n"
          ]
        }
      ]
    },
    {
      "cell_type": "code",
      "source": [
        "n_grams=ngrams(sentence.split(),n)"
      ],
      "metadata": {
        "id": "amQYn8et6p8A"
      },
      "execution_count": 8,
      "outputs": []
    },
    {
      "cell_type": "code",
      "source": [
        "for grams in n_grams:\n",
        "  print(grams)"
      ],
      "metadata": {
        "id": "lexmJcjF60ln"
      },
      "execution_count": 9,
      "outputs": []
    },
    {
      "cell_type": "code",
      "source": [
        "text = \"Sir Lewis Carl Davidson Hamilton MBE HonFREng is a British racing driver currently competing in Formula One for Mercedes. In Formula One, Hamilton has won a joint-record seven World Drivers' Championship titles, and holds the records for the most wins, pole positions, and podium finishes, among others\""
      ],
      "metadata": {
        "id": "dFm9nPYS7RVx"
      },
      "execution_count": 10,
      "outputs": []
    },
    {
      "cell_type": "code",
      "source": [
        "import nltk\n",
        "nltk.download('punkt')\n",
        "nltk.download('averaged_perceptron_tagger')"
      ],
      "metadata": {
        "colab": {
          "base_uri": "https://localhost:8080/"
        },
        "id": "qRjHVqxU983B",
        "outputId": "c57debf4-4180-461d-d7da-8b33cf650d78"
      },
      "execution_count": 19,
      "outputs": [
        {
          "output_type": "stream",
          "name": "stderr",
          "text": [
            "[nltk_data] Downloading package punkt to /root/nltk_data...\n",
            "[nltk_data]   Package punkt is already up-to-date!\n",
            "[nltk_data] Downloading package averaged_perceptron_tagger to\n",
            "[nltk_data]     /root/nltk_data...\n",
            "[nltk_data]   Package averaged_perceptron_tagger is already up-to-\n",
            "[nltk_data]       date!\n"
          ]
        },
        {
          "output_type": "execute_result",
          "data": {
            "text/plain": [
              "True"
            ]
          },
          "metadata": {},
          "execution_count": 19
        }
      ]
    },
    {
      "cell_type": "code",
      "source": [
        "sentence = nltk.sent_tokenize(text)\n",
        "for sent in sentence:\n",
        "  print(nltk.pos_tag(nltk.word_tokenize(sent)))"
      ],
      "metadata": {
        "colab": {
          "base_uri": "https://localhost:8080/"
        },
        "id": "q-sj4iqF77aB",
        "outputId": "21792c11-b63e-4171-c657-6bb6c531406e"
      },
      "execution_count": 18,
      "outputs": [
        {
          "output_type": "stream",
          "name": "stdout",
          "text": [
            "[('Sir', 'NNP'), ('Lewis', 'NNP'), ('Carl', 'NNP'), ('Davidson', 'NNP'), ('Hamilton', 'NNP'), ('MBE', 'NNP'), ('HonFREng', 'NNP'), ('is', 'VBZ'), ('a', 'DT'), ('British', 'JJ'), ('racing', 'NN'), ('driver', 'NN'), ('currently', 'RB'), ('competing', 'VBG'), ('in', 'IN'), ('Formula', 'NNP'), ('One', 'NNP'), ('for', 'IN'), ('Mercedes', 'NNP'), ('.', '.')]\n",
            "[('In', 'IN'), ('Formula', 'NNP'), ('One', 'NNP'), (',', ','), ('Hamilton', 'NNP'), ('has', 'VBZ'), ('won', 'VBN'), ('a', 'DT'), ('joint-record', 'JJ'), ('seven', 'CD'), ('World', 'NNP'), ('Drivers', 'NNP'), (\"'\", 'POS'), ('Championship', 'NNP'), ('titles', 'NNS'), (',', ','), ('and', 'CC'), ('holds', 'VBZ'), ('the', 'DT'), ('records', 'NNS'), ('for', 'IN'), ('the', 'DT'), ('most', 'RBS'), ('wins', 'NNS'), (',', ','), ('pole', 'JJ'), ('positions', 'NNS'), (',', ','), ('and', 'CC'), ('podium', 'NN'), ('finishes', 'NNS'), (',', ','), ('among', 'IN'), ('others', 'NNS')]\n"
          ]
        }
      ]
    },
    {
      "cell_type": "code",
      "source": [],
      "metadata": {
        "id": "mBp0KLjh9qyb"
      },
      "execution_count": null,
      "outputs": []
    }
  ]
}